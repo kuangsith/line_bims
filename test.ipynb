{
 "cells": [
  {
   "cell_type": "code",
   "execution_count": 36,
   "metadata": {},
   "outputs": [],
   "source": [
    "import pandas as pd\n",
    "from bs4 import BeautifulSoup\n",
    "import requests\n",
    "import config\n",
    "import line_noti\n",
    "import datetime\n",
    "import pytz\n",
    "\n",
    "tablist = config.tablist()\n",
    "unit_dict = config.unit_dict()\n",
    "npoints = config.npoints()\n",
    "\n",
    "msg = \"Water Report\\n\"\n",
    "\n",
    "bangkok_tz = pytz.timezone('Asia/Bangkok')\n",
    "now_utc = datetime.datetime.now(pytz.utc)\n",
    "now_bangkok = now_utc.astimezone(bangkok_tz)\n",
    "day_before = now_bangkok - datetime.timedelta(days=1)\n",
    "\n",
    "run_date = now_bangkok.strftime(format=\"%Y-%m-%d\")\n",
    "run_date = '2024-06-13' #Uncomment here to override\n",
    "\n",
    "date_end = run_date\n",
    "date_start = ((datetime.datetime.strptime(date_end,\"%Y-%m-%d\")) + datetime.timedelta(days=-1)).strftime(format = \"%Y-%m-%d\")\n",
    "msg += f\"Run Date: {run_date}\\n\"\n",
    "\n",
    "msg += \"-\"*24 +\"\\n\""
   ]
  },
  {
   "cell_type": "code",
   "execution_count": 37,
   "metadata": {},
   "outputs": [
    {
     "data": {
      "text/plain": [
       "('2024-06-12', '2024-06-13')"
      ]
     },
     "execution_count": 37,
     "metadata": {},
     "output_type": "execute_result"
    }
   ],
   "source": [
    "date_start, date_end"
   ]
  },
  {
   "cell_type": "code",
   "execution_count": 38,
   "metadata": {},
   "outputs": [],
   "source": [
    "tabname = tablist[0]\n",
    "npoints = config.npoints()"
   ]
  },
  {
   "cell_type": "code",
   "execution_count": 39,
   "metadata": {},
   "outputs": [],
   "source": [
    "msg += f\"Data from table {tabname}\\n\"\n",
    "\n",
    "url = f'http://110.49.150.135:4002/CPU/?command=DataQuery&uri=dl:tabACTW&format=html&mode=date-range&p1={date_start}T18:00:00&p2={date_end}T18:00:00'\n",
    "page = requests.get(url)\n",
    "soup = BeautifulSoup(page.text, 'html.parser')\n",
    "\n",
    "table = soup.find('table')\n",
    "rows = table.find_all('tr')\n",
    "data = []\n",
    "for row in rows:\n",
    "    cols = row.find_all(['td', 'th'])\n",
    "    cols = [ele.text.strip() for ele in cols]\n",
    "    data.append([ele for ele in cols if ele])\n",
    "\n",
    "df = pd.DataFrame(data[1:],columns=data[0])"
   ]
  },
  {
   "cell_type": "code",
   "execution_count": 40,
   "metadata": {},
   "outputs": [
    {
     "data": {
      "text/plain": [
       "(1440, 6)"
      ]
     },
     "execution_count": 40,
     "metadata": {},
     "output_type": "execute_result"
    }
   ],
   "source": [
    "df.shape"
   ]
  },
  {
   "cell_type": "code",
   "execution_count": 41,
   "metadata": {},
   "outputs": [],
   "source": [
    "collist= [col for col in df.columns if col not in ['TimeStamp','Record']]\n",
    "\n",
    "df['TimeStamp'] = pd.to_datetime(df['TimeStamp']).dt.tz_localize(bangkok_tz)"
   ]
  },
  {
   "cell_type": "code",
   "execution_count": 42,
   "metadata": {},
   "outputs": [
    {
     "data": {
      "text/plain": [
       "Timestamp('2024-06-12 18:00:00+0700', tz='Asia/Bangkok')"
      ]
     },
     "execution_count": 42,
     "metadata": {},
     "output_type": "execute_result"
    }
   ],
   "source": [
    "df['TimeStamp'].min()"
   ]
  },
  {
   "cell_type": "code",
   "execution_count": 43,
   "metadata": {},
   "outputs": [
    {
     "data": {
      "text/plain": [
       "Timestamp('2024-06-13 17:59:00+0700', tz='Asia/Bangkok')"
      ]
     },
     "execution_count": 43,
     "metadata": {},
     "output_type": "execute_result"
    }
   ],
   "source": [
    "df['TimeStamp'].max()"
   ]
  },
  {
   "cell_type": "code",
   "execution_count": 44,
   "metadata": {},
   "outputs": [],
   "source": [
    "msg += f\"Number of data points: {df_period.shape[0]}\\n\\n\"\n",
    "\n",
    "for col in collist:\n",
    "    df[col] = df[col].astype('float')\n",
    "    msg += f\"{col}: {df[col].median():.2f} {unit_dict.get(col) if unit_dict.get(col) is not None else ''}\\n\"\n",
    "\n",
    "msg += \"-\"*24 + \"\\n\""
   ]
  },
  {
   "cell_type": "code",
   "execution_count": 45,
   "metadata": {},
   "outputs": [
    {
     "name": "stdout",
     "output_type": "stream",
     "text": [
      "Water Report\n",
      "Run Date: 2024-06-13\n",
      "------------------------\n",
      "Data from table ACTW\n",
      "Number of data points: 1153\n",
      "\n",
      "WaterTemp_ACTW: 30.89 °C\n",
      "Conductivity: 39.77 \n",
      "Salinity: 22.29 psu\n",
      "ACTWVoltage: 12.57 \n",
      "------------------------\n",
      "\n"
     ]
    }
   ],
   "source": [
    "print(msg)"
   ]
  },
  {
   "cell_type": "code",
   "execution_count": null,
   "metadata": {},
   "outputs": [],
   "source": []
  }
 ],
 "metadata": {
  "kernelspec": {
   "display_name": "base",
   "language": "python",
   "name": "python3"
  },
  "language_info": {
   "codemirror_mode": {
    "name": "ipython",
    "version": 3
   },
   "file_extension": ".py",
   "mimetype": "text/x-python",
   "name": "python",
   "nbconvert_exporter": "python",
   "pygments_lexer": "ipython3",
   "version": "3.10.9"
  },
  "orig_nbformat": 4
 },
 "nbformat": 4,
 "nbformat_minor": 2
}
